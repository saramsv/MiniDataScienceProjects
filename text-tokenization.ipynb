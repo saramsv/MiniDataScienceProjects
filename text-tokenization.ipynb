{
 "cells": [
  {
   "cell_type": "markdown",
   "id": "1380f0b8",
   "metadata": {},
   "source": [
    "# How to tokenize a text in python"
   ]
  },
  {
   "cell_type": "code",
   "execution_count": 22,
   "id": "1861c3be",
   "metadata": {},
   "outputs": [],
   "source": [
    "text1 = \"Here’s to the crazy ones, the misfits, the rebels, the troublemakers, the round pegs in the square holes. The ones who see things differently — they’re not fond of rules. You can quote them, disagree with them, glorify or vilify them, but the only thing you can’t do is ignore them because they change things. They push the human race forward, and while some may see them as the crazy ones, we see genius, because the ones who are crazy enough to think that they can change the world, are the ones who do\"\n",
    "text2 = \"I choose a lazy person to do a hard job. Because a lazy person will find an easy way to do it.\"\n",
    "text_spanish = \"\"\"Por los locos. Los marginados. Los rebeldes. Los problematicos. \n",
    "Los inadaptados. Los que ven las cosas de una manera distinta. A los que no les gustan\n",
    "las reglas. Y a los que no respetan el “status quo”. Puedes citarlos, discrepar de ellos,\n",
    "ensalzarlos o vilipendiarlos. Pero lo que no puedes hacer es ignorarlos… Porque ellos\n",
    "cambian las cosas, empujan hacia adelante la raza humana y, aunque algunos puedan\n",
    "considerarlos locos, nosotros vemos en ellos a genios. Porque las personas que están\n",
    "lo bastante locas como para creer que pueden cambiar el mundo, son las que lo logran.\"\"\"\n",
    "\n",
    "author1 = \"jobs\"\n",
    "author2 = \"gates\""
   ]
  },
  {
   "cell_type": "markdown",
   "id": "a6b4aa82",
   "metadata": {},
   "source": [
    "##  The most simple way: split"
   ]
  },
  {
   "cell_type": "code",
   "execution_count": 6,
   "id": "4e258280",
   "metadata": {},
   "outputs": [
    {
     "data": {
      "text/plain": [
       "['Here’s',\n",
       " 'to',\n",
       " 'the',\n",
       " 'crazy',\n",
       " 'ones,',\n",
       " 'the',\n",
       " 'misfits,',\n",
       " 'the',\n",
       " 'rebels,',\n",
       " 'the']"
      ]
     },
     "execution_count": 6,
     "metadata": {},
     "output_type": "execute_result"
    }
   ],
   "source": [
    "tokens = text1.split()\n",
    "tokens[:10]"
   ]
  },
  {
   "cell_type": "markdown",
   "id": "316a1636",
   "metadata": {},
   "source": [
    "##  NLTK"
   ]
  },
  {
   "cell_type": "code",
   "execution_count": 8,
   "id": "f974b1c6",
   "metadata": {},
   "outputs": [
    {
     "data": {
      "text/plain": [
       "['Here', '’', 's', 'to', 'the', 'crazy', 'ones', ',', 'the', 'misfits']"
      ]
     },
     "execution_count": 8,
     "metadata": {},
     "output_type": "execute_result"
    }
   ],
   "source": [
    "from nltk.tokenize import word_tokenize\n",
    "tokens = word_tokenize(text1)\n",
    "tokens[:10]"
   ]
  },
  {
   "cell_type": "markdown",
   "id": "5237056e",
   "metadata": {},
   "source": [
    "## sklearn"
   ]
  },
  {
   "cell_type": "code",
   "execution_count": 19,
   "id": "a924864b",
   "metadata": {},
   "outputs": [
    {
     "data": {
      "text/html": [
       "<div>\n",
       "<style scoped>\n",
       "    .dataframe tbody tr th:only-of-type {\n",
       "        vertical-align: middle;\n",
       "    }\n",
       "\n",
       "    .dataframe tbody tr th {\n",
       "        vertical-align: top;\n",
       "    }\n",
       "\n",
       "    .dataframe thead th {\n",
       "        text-align: right;\n",
       "    }\n",
       "</style>\n",
       "<table border=\"1\" class=\"dataframe\">\n",
       "  <thead>\n",
       "    <tr style=\"text-align: right;\">\n",
       "      <th></th>\n",
       "      <th>and</th>\n",
       "      <th>are</th>\n",
       "      <th>as</th>\n",
       "      <th>because</th>\n",
       "      <th>but</th>\n",
       "      <th>can</th>\n",
       "      <th>change</th>\n",
       "      <th>crazy</th>\n",
       "      <th>differently</th>\n",
       "      <th>disagree</th>\n",
       "      <th>...</th>\n",
       "      <th>think</th>\n",
       "      <th>to</th>\n",
       "      <th>troublemakers</th>\n",
       "      <th>vilify</th>\n",
       "      <th>we</th>\n",
       "      <th>while</th>\n",
       "      <th>who</th>\n",
       "      <th>with</th>\n",
       "      <th>world</th>\n",
       "      <th>you</th>\n",
       "    </tr>\n",
       "  </thead>\n",
       "  <tbody>\n",
       "    <tr>\n",
       "      <th>0</th>\n",
       "      <td>1</td>\n",
       "      <td>2</td>\n",
       "      <td>1</td>\n",
       "      <td>2</td>\n",
       "      <td>1</td>\n",
       "      <td>3</td>\n",
       "      <td>2</td>\n",
       "      <td>3</td>\n",
       "      <td>1</td>\n",
       "      <td>1</td>\n",
       "      <td>...</td>\n",
       "      <td>1</td>\n",
       "      <td>2</td>\n",
       "      <td>1</td>\n",
       "      <td>1</td>\n",
       "      <td>1</td>\n",
       "      <td>1</td>\n",
       "      <td>3</td>\n",
       "      <td>1</td>\n",
       "      <td>1</td>\n",
       "      <td>2</td>\n",
       "    </tr>\n",
       "  </tbody>\n",
       "</table>\n",
       "<p>1 rows × 56 columns</p>\n",
       "</div>"
      ],
      "text/plain": [
       "   and  are  as  because  but  can  change  crazy  differently  disagree  ...  \\\n",
       "0    1    2   1        2    1    3       2      3            1         1  ...   \n",
       "\n",
       "   think  to  troublemakers  vilify  we  while  who  with  world  you  \n",
       "0      1   2              1       1   1      1    3     1      1    2  \n",
       "\n",
       "[1 rows x 56 columns]"
      ]
     },
     "execution_count": 19,
     "metadata": {},
     "output_type": "execute_result"
    }
   ],
   "source": [
    "from sklearn.feature_extraction.text import CountVectorizer, TfidfVectorizer\n",
    "import pandas as pd\n",
    "\n",
    "cv = CountVectorizer()\n",
    "tokens = cv.fit_transform([text1])\n",
    "pd.DataFrame.sparse.from_spmatrix(tokens, columns=cv.get_feature_names())"
   ]
  },
  {
   "cell_type": "code",
   "execution_count": 20,
   "id": "a97cc9b6",
   "metadata": {},
   "outputs": [
    {
     "data": {
      "text/html": [
       "<div>\n",
       "<style scoped>\n",
       "    .dataframe tbody tr th:only-of-type {\n",
       "        vertical-align: middle;\n",
       "    }\n",
       "\n",
       "    .dataframe tbody tr th {\n",
       "        vertical-align: top;\n",
       "    }\n",
       "\n",
       "    .dataframe thead th {\n",
       "        text-align: right;\n",
       "    }\n",
       "</style>\n",
       "<table border=\"1\" class=\"dataframe\">\n",
       "  <thead>\n",
       "    <tr style=\"text-align: right;\">\n",
       "      <th></th>\n",
       "      <th>and</th>\n",
       "      <th>are</th>\n",
       "      <th>as</th>\n",
       "      <th>because</th>\n",
       "      <th>but</th>\n",
       "      <th>can</th>\n",
       "      <th>change</th>\n",
       "      <th>crazy</th>\n",
       "      <th>differently</th>\n",
       "      <th>disagree</th>\n",
       "      <th>...</th>\n",
       "      <th>think</th>\n",
       "      <th>to</th>\n",
       "      <th>troublemakers</th>\n",
       "      <th>vilify</th>\n",
       "      <th>we</th>\n",
       "      <th>while</th>\n",
       "      <th>who</th>\n",
       "      <th>with</th>\n",
       "      <th>world</th>\n",
       "      <th>you</th>\n",
       "    </tr>\n",
       "  </thead>\n",
       "  <tbody>\n",
       "    <tr>\n",
       "      <th>0</th>\n",
       "      <td>0.054233</td>\n",
       "      <td>0.108465</td>\n",
       "      <td>0.054233</td>\n",
       "      <td>0.108465</td>\n",
       "      <td>0.054233</td>\n",
       "      <td>0.162698</td>\n",
       "      <td>0.108465</td>\n",
       "      <td>0.162698</td>\n",
       "      <td>0.054233</td>\n",
       "      <td>0.054233</td>\n",
       "      <td>...</td>\n",
       "      <td>0.054233</td>\n",
       "      <td>0.108465</td>\n",
       "      <td>0.054233</td>\n",
       "      <td>0.054233</td>\n",
       "      <td>0.054233</td>\n",
       "      <td>0.054233</td>\n",
       "      <td>0.162698</td>\n",
       "      <td>0.054233</td>\n",
       "      <td>0.054233</td>\n",
       "      <td>0.108465</td>\n",
       "    </tr>\n",
       "  </tbody>\n",
       "</table>\n",
       "<p>1 rows × 56 columns</p>\n",
       "</div>"
      ],
      "text/plain": [
       "        and       are        as   because       but       can    change  \\\n",
       "0  0.054233  0.108465  0.054233  0.108465  0.054233  0.162698  0.108465   \n",
       "\n",
       "      crazy  differently  disagree  ...     think        to  troublemakers  \\\n",
       "0  0.162698     0.054233  0.054233  ...  0.054233  0.108465       0.054233   \n",
       "\n",
       "     vilify        we     while       who      with     world       you  \n",
       "0  0.054233  0.054233  0.054233  0.162698  0.054233  0.054233  0.108465  \n",
       "\n",
       "[1 rows x 56 columns]"
      ]
     },
     "execution_count": 20,
     "metadata": {},
     "output_type": "execute_result"
    }
   ],
   "source": [
    "tfidf = TfidfVectorizer()\n",
    "tf_tokens = tfidf.fit_transform([text1])\n",
    "pd.DataFrame.sparse.from_spmatrix(tf_tokens, columns=tfidf.get_feature_names())"
   ]
  },
  {
   "cell_type": "code",
   "execution_count": 21,
   "id": "11fa3584",
   "metadata": {},
   "outputs": [
    {
     "data": {
      "text/html": [
       "<div>\n",
       "<style scoped>\n",
       "    .dataframe tbody tr th:only-of-type {\n",
       "        vertical-align: middle;\n",
       "    }\n",
       "\n",
       "    .dataframe tbody tr th {\n",
       "        vertical-align: top;\n",
       "    }\n",
       "\n",
       "    .dataframe thead th {\n",
       "        text-align: right;\n",
       "    }\n",
       "</style>\n",
       "<table border=\"1\" class=\"dataframe\">\n",
       "  <thead>\n",
       "    <tr style=\"text-align: right;\">\n",
       "      <th></th>\n",
       "      <th>change</th>\n",
       "      <th>choose</th>\n",
       "      <th>crazy</th>\n",
       "      <th>differently</th>\n",
       "      <th>disagree</th>\n",
       "      <th>easy</th>\n",
       "      <th>fond</th>\n",
       "      <th>forward</th>\n",
       "      <th>genius</th>\n",
       "      <th>glorify</th>\n",
       "      <th>...</th>\n",
       "      <th>round</th>\n",
       "      <th>rules</th>\n",
       "      <th>square</th>\n",
       "      <th>thing</th>\n",
       "      <th>things</th>\n",
       "      <th>think</th>\n",
       "      <th>troublemakers</th>\n",
       "      <th>vilify</th>\n",
       "      <th>way</th>\n",
       "      <th>world</th>\n",
       "    </tr>\n",
       "  </thead>\n",
       "  <tbody>\n",
       "    <tr>\n",
       "      <th>0</th>\n",
       "      <td>2</td>\n",
       "      <td>0</td>\n",
       "      <td>3</td>\n",
       "      <td>1</td>\n",
       "      <td>1</td>\n",
       "      <td>0</td>\n",
       "      <td>1</td>\n",
       "      <td>1</td>\n",
       "      <td>1</td>\n",
       "      <td>1</td>\n",
       "      <td>...</td>\n",
       "      <td>1</td>\n",
       "      <td>1</td>\n",
       "      <td>1</td>\n",
       "      <td>1</td>\n",
       "      <td>2</td>\n",
       "      <td>1</td>\n",
       "      <td>1</td>\n",
       "      <td>1</td>\n",
       "      <td>0</td>\n",
       "      <td>1</td>\n",
       "    </tr>\n",
       "    <tr>\n",
       "      <th>1</th>\n",
       "      <td>0</td>\n",
       "      <td>1</td>\n",
       "      <td>0</td>\n",
       "      <td>0</td>\n",
       "      <td>0</td>\n",
       "      <td>1</td>\n",
       "      <td>0</td>\n",
       "      <td>0</td>\n",
       "      <td>0</td>\n",
       "      <td>0</td>\n",
       "      <td>...</td>\n",
       "      <td>0</td>\n",
       "      <td>0</td>\n",
       "      <td>0</td>\n",
       "      <td>0</td>\n",
       "      <td>0</td>\n",
       "      <td>0</td>\n",
       "      <td>0</td>\n",
       "      <td>0</td>\n",
       "      <td>1</td>\n",
       "      <td>0</td>\n",
       "    </tr>\n",
       "  </tbody>\n",
       "</table>\n",
       "<p>2 rows × 34 columns</p>\n",
       "</div>"
      ],
      "text/plain": [
       "   change  choose  crazy  differently  disagree  easy  fond  forward  genius  \\\n",
       "0       2       0      3            1         1     0     1        1       1   \n",
       "1       0       1      0            0         0     1     0        0       0   \n",
       "\n",
       "   glorify  ...  round  rules  square  thing  things  think  troublemakers  \\\n",
       "0        1  ...      1      1       1      1       2      1              1   \n",
       "1        0  ...      0      0       0      0       0      0              0   \n",
       "\n",
       "   vilify  way  world  \n",
       "0       1    0      1  \n",
       "1       0    1      0  \n",
       "\n",
       "[2 rows x 34 columns]"
      ]
     },
     "execution_count": 21,
     "metadata": {},
     "output_type": "execute_result"
    }
   ],
   "source": [
    "df = pd.DataFrame({'author':[author1, author2], 'text':[text1, text2]})\n",
    "cv = CountVectorizer(stop_words='english')\n",
    "tokens = cv.fit_transform(df['text'])\n",
    "pd.DataFrame.sparse.from_spmatrix(tokens, index=df.index, columns=cv.get_feature_names())"
   ]
  },
  {
   "cell_type": "markdown",
   "id": "bde9ae6d",
   "metadata": {},
   "source": [
    "## spaCy"
   ]
  },
  {
   "cell_type": "code",
   "execution_count": 26,
   "id": "9be84554",
   "metadata": {},
   "outputs": [],
   "source": [
    "#!pip install spacy"
   ]
  },
  {
   "cell_type": "code",
   "execution_count": 29,
   "id": "0ac8bd4d",
   "metadata": {},
   "outputs": [
    {
     "data": {
      "text/plain": [
       "['Por', 'los', 'locos', '.', 'Los', 'marginados', '.', 'Los', 'rebeldes', '.']"
      ]
     },
     "execution_count": 29,
     "metadata": {},
     "output_type": "execute_result"
    }
   ],
   "source": [
    "from spacy.lang.es import Spanish\n",
    "nlp = Spanish()\n",
    "doc = nlp(text_spanish)\n",
    "tokens = [token.text for token in doc]\n",
    "tokens[:10]"
   ]
  },
  {
   "cell_type": "markdown",
   "id": "a1c0e2af",
   "metadata": {},
   "source": [
    "## Gensim"
   ]
  },
  {
   "cell_type": "code",
   "execution_count": 30,
   "id": "dd8b7de3",
   "metadata": {},
   "outputs": [
    {
     "name": "stdout",
     "output_type": "stream",
     "text": [
      "Collecting gensim\n",
      "  Downloading gensim-4.1.2-cp37-cp37m-manylinux_2_12_x86_64.manylinux2010_x86_64.whl (24.1 MB)\n",
      "\u001b[K     |████████████████████████████████| 24.1 MB 6.6 MB/s eta 0:00:01:04\n",
      "\u001b[?25hRequirement already satisfied: numpy>=1.17.0 in /opt/conda/lib/python3.7/site-packages (from gensim) (1.19.5)\n",
      "Requirement already satisfied: scipy>=0.18.1 in /opt/conda/lib/python3.7/site-packages (from gensim) (1.7.0)\n",
      "Requirement already satisfied: smart-open>=1.8.1 in /opt/conda/lib/python3.7/site-packages (from gensim) (5.2.1)\n",
      "Installing collected packages: gensim\n",
      "Successfully installed gensim-4.1.2\n",
      "\u001b[33mWARNING: Running pip as root will break packages and permissions. You should install packages reliably by using venv: https://pip.pypa.io/warnings/venv\u001b[0m\n"
     ]
    }
   ],
   "source": [
    "!pip install gensim"
   ]
  },
  {
   "cell_type": "code",
   "execution_count": 24,
   "id": "44f1da09",
   "metadata": {},
   "outputs": [
    {
     "ename": "ModuleNotFoundError",
     "evalue": "No module named 'gensim'",
     "output_type": "error",
     "traceback": [
      "\u001b[0;31m---------------------------------------------------------------------------\u001b[0m",
      "\u001b[0;31mModuleNotFoundError\u001b[0m                       Traceback (most recent call last)",
      "\u001b[0;32m<ipython-input-24-8d6889452a2e>\u001b[0m in \u001b[0;36m<module>\u001b[0;34m\u001b[0m\n\u001b[0;32m----> 1\u001b[0;31m \u001b[0;32mfrom\u001b[0m \u001b[0mgensim\u001b[0m\u001b[0;34m.\u001b[0m\u001b[0mutils\u001b[0m \u001b[0;32mimport\u001b[0m \u001b[0mtokenize\u001b[0m\u001b[0;34m\u001b[0m\u001b[0;34m\u001b[0m\u001b[0m\n\u001b[0m\u001b[1;32m      2\u001b[0m \u001b[0mlist\u001b[0m\u001b[0;34m(\u001b[0m\u001b[0mtokenize\u001b[0m\u001b[0;34m(\u001b[0m\u001b[0mtext1\u001b[0m\u001b[0;34m)\u001b[0m\u001b[0;34m)\u001b[0m\u001b[0;34m\u001b[0m\u001b[0;34m\u001b[0m\u001b[0m\n",
      "\u001b[0;31mModuleNotFoundError\u001b[0m: No module named 'gensim'"
     ]
    }
   ],
   "source": [
    "from gensim.utils import tokenize\n",
    "list(tokenize(text1))"
   ]
  },
  {
   "cell_type": "code",
   "execution_count": null,
   "id": "ce8d3bc5",
   "metadata": {},
   "outputs": [],
   "source": []
  }
 ],
 "metadata": {
  "kernelspec": {
   "display_name": "Python 3",
   "language": "python",
   "name": "python3"
  },
  "language_info": {
   "codemirror_mode": {
    "name": "ipython",
    "version": 3
   },
   "file_extension": ".py",
   "mimetype": "text/x-python",
   "name": "python",
   "nbconvert_exporter": "python",
   "pygments_lexer": "ipython3",
   "version": "3.7.10"
  }
 },
 "nbformat": 4,
 "nbformat_minor": 5
}
