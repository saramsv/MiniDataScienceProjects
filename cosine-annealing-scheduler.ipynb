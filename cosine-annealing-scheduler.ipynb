{
 "cells": [
  {
   "cell_type": "code",
   "execution_count": 12,
   "id": "68f2a58b",
   "metadata": {},
   "outputs": [],
   "source": [
    "import numpy as np\n",
    "import torch.optim as Optimizer\n",
    "import torchvision.models as models\n"
   ]
  },
  {
   "cell_type": "code",
   "execution_count": 44,
   "id": "fb9446ef",
   "metadata": {},
   "outputs": [],
   "source": [
    "class CosineScheduler():\n",
    "    def __init__(self, optimizer=None, lr=0.001):\n",
    "        #assert isinstance(optimizer, Optimizer)\n",
    "        self.optimizer = optimizer\n",
    "        self.lr=lr\n",
    "        self.current_epoch = 1\n",
    "        self.total_epoch = 100\n",
    "        \n",
    "    def zero_grad(self):\n",
    "        self.optimizer.zero_grad()\n",
    "        \n",
    "    def step(self):\n",
    "        new_lr = np.cos(np.pi/2)*(self.current_epoch/self.total_epoch)*self.lr\n",
    "        for param_group in self.optimizer.param_groups:\n",
    "            param_group['lr'] = new_lr\n",
    "        print(new_lr)\n",
    "        self.optimizer.step()\n",
    "        self.current_epoch += 1"
   ]
  },
  {
   "cell_type": "code",
   "execution_count": 45,
   "id": "e0ee9dcd",
   "metadata": {},
   "outputs": [],
   "source": [
    "model = models.resnet18(pretrained=True)"
   ]
  },
  {
   "cell_type": "code",
   "execution_count": 46,
   "id": "261b66ea",
   "metadata": {},
   "outputs": [],
   "source": [
    "optimizer = Optimizer.SGD(model.parameters(), lr=0.003)"
   ]
  },
  {
   "cell_type": "code",
   "execution_count": 47,
   "id": "b80b18e7",
   "metadata": {},
   "outputs": [],
   "source": [
    "opt = CosineScheduler(optimizer)"
   ]
  },
  {
   "cell_type": "code",
   "execution_count": 48,
   "id": "e82a0b18",
   "metadata": {},
   "outputs": [
    {
     "data": {
      "text/plain": [
       "0.001"
      ]
     },
     "execution_count": 48,
     "metadata": {},
     "output_type": "execute_result"
    }
   ],
   "source": [
    "opt.lr"
   ]
  },
  {
   "cell_type": "code",
   "execution_count": 49,
   "id": "7e4287d8",
   "metadata": {},
   "outputs": [
    {
     "name": "stdout",
     "output_type": "stream",
     "text": [
      "6.123233995736766e-22\n",
      "1.2246467991473532e-21\n",
      "1.8369701987210297e-21\n",
      "2.4492935982947065e-21\n",
      "3.061616997868383e-21\n",
      "3.6739403974420595e-21\n",
      "4.2862637970157366e-21\n",
      "4.898587196589413e-21\n",
      "5.51091059616309e-21\n",
      "6.123233995736766e-21\n",
      "6.735557395310443e-21\n",
      "7.347880794884119e-21\n",
      "7.960204194457797e-21\n",
      "8.572527594031473e-21\n",
      "9.18485099360515e-21\n",
      "9.797174393178826e-21\n",
      "1.0409497792752502e-20\n",
      "1.102182119232618e-20\n",
      "1.1634144591899856e-20\n",
      "1.2246467991473533e-20\n",
      "1.2858791391047207e-20\n",
      "1.3471114790620885e-20\n",
      "1.4083438190194562e-20\n",
      "1.4695761589768238e-20\n",
      "1.5308084989341914e-20\n",
      "1.5920408388915594e-20\n",
      "1.653273178848927e-20\n",
      "1.7145055188062946e-20\n",
      "1.775737858763662e-20\n",
      "1.83697019872103e-20\n",
      "1.8982025386783975e-20\n",
      "1.9594348786357652e-20\n",
      "2.020667218593133e-20\n",
      "2.0818995585505004e-20\n",
      "2.143131898507868e-20\n",
      "2.204364238465236e-20\n",
      "2.2655965784226033e-20\n",
      "2.3268289183799713e-20\n",
      "2.388061258337339e-20\n",
      "2.4492935982947065e-20\n",
      "2.5105259382520742e-20\n",
      "2.5717582782094415e-20\n",
      "2.6329906181668094e-20\n",
      "2.694222958124177e-20\n",
      "2.755455298081545e-20\n",
      "2.8166876380389123e-20\n",
      "2.8779199779962797e-20\n",
      "2.9391523179536476e-20\n",
      "3.0003846579110155e-20\n",
      "3.061616997868383e-20\n"
     ]
    }
   ],
   "source": [
    "for i in range(50):\n",
    "    opt.step()"
   ]
  },
  {
   "cell_type": "code",
   "execution_count": 42,
   "id": "e3e758c6",
   "metadata": {},
   "outputs": [
    {
     "data": {
      "text/plain": [
       "0.001"
      ]
     },
     "execution_count": 42,
     "metadata": {},
     "output_type": "execute_result"
    }
   ],
   "source": [
    "opt.lr"
   ]
  },
  {
   "cell_type": "code",
   "execution_count": 43,
   "id": "07cbfb62",
   "metadata": {},
   "outputs": [
    {
     "data": {
      "text/plain": [
       "52"
      ]
     },
     "execution_count": 43,
     "metadata": {},
     "output_type": "execute_result"
    }
   ],
   "source": [
    "opt.current_epoch"
   ]
  },
  {
   "cell_type": "code",
   "execution_count": null,
   "id": "291d9012",
   "metadata": {},
   "outputs": [],
   "source": []
  }
 ],
 "metadata": {
  "kernelspec": {
   "display_name": "Python 3",
   "language": "python",
   "name": "python3"
  },
  "language_info": {
   "codemirror_mode": {
    "name": "ipython",
    "version": 3
   },
   "file_extension": ".py",
   "mimetype": "text/x-python",
   "name": "python",
   "nbconvert_exporter": "python",
   "pygments_lexer": "ipython3",
   "version": "3.7.10"
  }
 },
 "nbformat": 4,
 "nbformat_minor": 5
}
