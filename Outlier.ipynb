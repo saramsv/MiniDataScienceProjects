{
 "cells": [
  {
   "cell_type": "markdown",
   "id": "e10d313b",
   "metadata": {},
   "source": [
    "## There are 5 ways\n",
    "1. Using std (anything that is within 3 std from the mean of the data)\n",
    "2. Using boxplot to see it (seaborn.boxplot). Using Inner Quantile Rnage (IQR=Q3-Q1)(lowwer = Q1 - 1.5IQR, upper = Q3 + 1.5 * IQR)\n",
    "3. Using DBSCAN\n",
    "4. Using IsolationForest\n",
    "5. Robust Random Cut Forest"
   ]
  },
  {
   "cell_type": "code",
   "execution_count": 5,
   "id": "4c22f5e8",
   "metadata": {},
   "outputs": [],
   "source": [
    "from sklearn.cluster import DBSCAN\n",
    "import numpy as np\n",
    "import random"
   ]
  },
  {
   "cell_type": "code",
   "execution_count": 16,
   "id": "3b23e9a1",
   "metadata": {},
   "outputs": [],
   "source": [
    "random.seed(1)\n",
    "rand_vals = np.random.randn(50000, 2) * 20 + 20"
   ]
  },
  {
   "cell_type": "code",
   "execution_count": 7,
   "id": "fc3669c0",
   "metadata": {},
   "outputs": [
    {
     "data": {
      "text/plain": [
       "array([[-0.85607677, -0.57554463],\n",
       "       [ 1.21176045, -0.60907379],\n",
       "       [-0.59754657, -0.87615369],\n",
       "       ...,\n",
       "       [ 0.95487204,  1.61562925],\n",
       "       [-0.85772715, -0.23263941],\n",
       "       [ 0.2618946 ,  0.94444831]])"
      ]
     },
     "execution_count": 7,
     "metadata": {},
     "output_type": "execute_result"
    }
   ],
   "source": [
    "rand_vals"
   ]
  },
  {
   "cell_type": "code",
   "execution_count": 17,
   "id": "951ad0c0",
   "metadata": {},
   "outputs": [
    {
     "data": {
      "text/plain": [
       "96"
      ]
     },
     "execution_count": 17,
     "metadata": {},
     "output_type": "execute_result"
    }
   ],
   "source": [
    "outlier_detection = DBSCAN(min_samples = 2, eps = 3)\n",
    "clusters = outlier_detection.fit_predict(rand_vals)\n",
    "list(clusters).count(-1)"
   ]
  },
  {
   "cell_type": "markdown",
   "id": "73d6d48f",
   "metadata": {},
   "source": [
    "SKLearn labels the noisy points as (-1)"
   ]
  },
  {
   "cell_type": "code",
   "execution_count": 19,
   "id": "6b997b2a",
   "metadata": {},
   "outputs": [],
   "source": [
    "from sklearn.ensemble import IsolationForest"
   ]
  },
  {
   "cell_type": "code",
   "execution_count": 24,
   "id": "4e9ddee0",
   "metadata": {},
   "outputs": [
    {
     "data": {
      "text/plain": [
       "array([ 1,  1, -1, ..., -1,  1,  1])"
      ]
     },
     "execution_count": 24,
     "metadata": {},
     "output_type": "execute_result"
    }
   ],
   "source": [
    "clf = IsolationForest(max_samples = 100, random_state=1, contamination='auto')\n",
    "preds = clf.fit_predict(rand_vals)\n",
    "preds\n",
    "#This code will output the predictions for each data point in an array. If the result is -1,\n",
    "#it means that this specific \n",
    "#data point is an outlier. If the result is 1, then it means that the data point is not an outlier"
   ]
  },
  {
   "cell_type": "code",
   "execution_count": null,
   "id": "bb5f8ebb",
   "metadata": {},
   "outputs": [],
   "source": []
  }
 ],
 "metadata": {
  "kernelspec": {
   "display_name": "Python 3",
   "language": "python",
   "name": "python3"
  },
  "language_info": {
   "codemirror_mode": {
    "name": "ipython",
    "version": 3
   },
   "file_extension": ".py",
   "mimetype": "text/x-python",
   "name": "python",
   "nbconvert_exporter": "python",
   "pygments_lexer": "ipython3",
   "version": "3.7.10"
  }
 },
 "nbformat": 4,
 "nbformat_minor": 5
}
