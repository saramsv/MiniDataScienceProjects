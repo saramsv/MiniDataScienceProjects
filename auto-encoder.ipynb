{
 "cells": [
  {
   "cell_type": "markdown",
   "id": "fac118f7",
   "metadata": {},
   "source": [
    "### Using auto-encoders for anomaly detection and denoising\n",
    "### The following code is a simple FeedForward neural network-based auto-encoder"
   ]
  },
  {
   "cell_type": "code",
   "execution_count": 65,
   "id": "5aeecae8",
   "metadata": {},
   "outputs": [],
   "source": [
    "import numpy as np\n",
    "import keras\n",
    "from keras.preprocessing import image\n",
    "from keras.datasets import mnist\n",
    "from keras.models import Sequential, Model\n",
    "from keras.layers import Dense, Input, Conv2D, MaxPooling2D, UpSampling2D\n",
    "from keras import optimizers\n",
    "from tensorflow.keras.optimizers import Adam,SGD\n",
    "import matplotlib.pyplot as plt\n",
    "\n",
    "%matplotlib inline"
   ]
  },
  {
   "cell_type": "code",
   "execution_count": 66,
   "id": "dcddb5b0",
   "metadata": {},
   "outputs": [],
   "source": [
    "(x_train, y_train),(x_test,y_test) = mnist.load_data()"
   ]
  },
  {
   "cell_type": "code",
   "execution_count": 67,
   "id": "990b59e9",
   "metadata": {},
   "outputs": [],
   "source": [
    "n, w, h = x_train.shape"
   ]
  },
  {
   "cell_type": "code",
   "execution_count": 68,
   "id": "9d033b78",
   "metadata": {},
   "outputs": [
    {
     "data": {
      "text/plain": [
       "60000"
      ]
     },
     "execution_count": 68,
     "metadata": {},
     "output_type": "execute_result"
    }
   ],
   "source": [
    "n"
   ]
  },
  {
   "cell_type": "code",
   "execution_count": 69,
   "id": "323d9738",
   "metadata": {},
   "outputs": [
    {
     "data": {
      "text/plain": [
       "(60000,)"
      ]
     },
     "execution_count": 69,
     "metadata": {},
     "output_type": "execute_result"
    }
   ],
   "source": [
    "y_train.shape"
   ]
  },
  {
   "cell_type": "code",
   "execution_count": 70,
   "id": "f8c00012",
   "metadata": {},
   "outputs": [],
   "source": [
    "m, w, h = x_test.shape"
   ]
  },
  {
   "cell_type": "code",
   "execution_count": 71,
   "id": "2cb5fbe5",
   "metadata": {},
   "outputs": [
    {
     "data": {
      "text/plain": [
       "(10000,)"
      ]
     },
     "execution_count": 71,
     "metadata": {},
     "output_type": "execute_result"
    }
   ],
   "source": [
    "y_test.shape"
   ]
  },
  {
   "cell_type": "code",
   "execution_count": 72,
   "id": "8e7bfe58",
   "metadata": {},
   "outputs": [],
   "source": [
    "x_train = x_train.reshape(n,w*h) /255\n",
    "x_test = x_test.reshape(m, w*h) /255"
   ]
  },
  {
   "cell_type": "code",
   "execution_count": 73,
   "id": "e8f39f3f",
   "metadata": {},
   "outputs": [],
   "source": [
    "## Build the auto-encoder\n",
    "autoencoder = Sequential()\n",
    "autoencoder.add(Dense(512, activation='elu', input_shape=(w*h,)))\n",
    "autoencoder.add(Dense(128, activation='elu'))\n",
    "autoencoder.add(Dense(10, activation='linear', name='bottleneck'))\n",
    "autoencoder.add(Dense(128, activation='elu'))\n",
    "autoencoder.add(Dense(512, activation='elu'))\n",
    "autoencoder.add(Dense(h*w, activation='sigmoid'))"
   ]
  },
  {
   "cell_type": "code",
   "execution_count": 74,
   "id": "79e16e6b",
   "metadata": {},
   "outputs": [],
   "source": [
    "autoencoder.compile(loss='mean_squared_error', optimizer=Adam())"
   ]
  },
  {
   "cell_type": "code",
   "execution_count": 75,
   "id": "8786e2fd",
   "metadata": {},
   "outputs": [
    {
     "name": "stdout",
     "output_type": "stream",
     "text": [
      "Epoch 1/10\n",
      "59/59 [==============================] - 1s 11ms/step - loss: 0.0776\n",
      "Epoch 2/10\n",
      "59/59 [==============================] - 1s 9ms/step - loss: 0.0423\n",
      "Epoch 3/10\n",
      "59/59 [==============================] - 1s 9ms/step - loss: 0.0340\n",
      "Epoch 4/10\n",
      "59/59 [==============================] - 1s 9ms/step - loss: 0.0291\n",
      "Epoch 5/10\n",
      "59/59 [==============================] - 1s 9ms/step - loss: 0.0257\n",
      "Epoch 6/10\n",
      "59/59 [==============================] - 1s 9ms/step - loss: 0.0236\n",
      "Epoch 7/10\n",
      "59/59 [==============================] - 1s 9ms/step - loss: 0.0222\n",
      "Epoch 8/10\n",
      "59/59 [==============================] - 1s 9ms/step - loss: 0.0211\n",
      "Epoch 9/10\n",
      "59/59 [==============================] - 1s 10ms/step - loss: 0.0203\n",
      "Epoch 10/10\n",
      "59/59 [==============================] - 1s 9ms/step - loss: 0.0195\n"
     ]
    }
   ],
   "source": [
    "trained_model = autoencoder.fit(x_train, x_train, batch_size=1024, epochs=10)"
   ]
  },
  {
   "cell_type": "code",
   "execution_count": 76,
   "id": "1a7877ee",
   "metadata": {},
   "outputs": [],
   "source": [
    "encoder = Model(autoencoder.input, autoencoder.get_layer('bottleneck').output)"
   ]
  },
  {
   "cell_type": "code",
   "execution_count": 77,
   "id": "27a3b2ac",
   "metadata": {},
   "outputs": [],
   "source": [
    "encoded_data = encoder.predict(x_train)"
   ]
  },
  {
   "cell_type": "code",
   "execution_count": 78,
   "id": "c57c5a97",
   "metadata": {},
   "outputs": [
    {
     "data": {
      "text/plain": [
       "(60000, 10)"
      ]
     },
     "execution_count": 78,
     "metadata": {},
     "output_type": "execute_result"
    }
   ],
   "source": [
    "encoded_data.shape"
   ]
  },
  {
   "cell_type": "code",
   "execution_count": 79,
   "id": "1936c285",
   "metadata": {},
   "outputs": [],
   "source": [
    "decoded_data = autoencoder.predict(x_train)"
   ]
  },
  {
   "cell_type": "code",
   "execution_count": 80,
   "id": "c3334cc6",
   "metadata": {},
   "outputs": [
    {
     "data": {
      "text/plain": [
       "(60000, 784)"
      ]
     },
     "execution_count": 80,
     "metadata": {},
     "output_type": "execute_result"
    }
   ],
   "source": [
    "decoded_data.shape"
   ]
  },
  {
   "cell_type": "code",
   "execution_count": 81,
   "id": "271a5c17",
   "metadata": {},
   "outputs": [],
   "source": [
    "encoded_input = Input(shape=(encoded_data.shape[1],))\n",
    "decoder = autoencoder.layers[-3](encoded_input)\n",
    "decoder = autoencoder.layers[-2](decoder)\n",
    "decoder = autoencoder.layers[-1](decoder)\n",
    "decoder = Model(encoded_input, decoder)"
   ]
  },
  {
   "cell_type": "code",
   "execution_count": 82,
   "id": "9a857886",
   "metadata": {},
   "outputs": [],
   "source": [
    "img = image.load_img('flower.jpg', target_size=(28,28), color_mode='grayscale')\n",
    "input_img = image.img_to_array(img)\n",
    "inputs = input_img.reshape(1,h*w)\n",
    "autoencoded = autoencoder.predict(inputs)"
   ]
  },
  {
   "cell_type": "code",
   "execution_count": 83,
   "id": "6cc716c6",
   "metadata": {},
   "outputs": [
    {
     "data": {
      "text/plain": [
       "(1, 784)"
      ]
     },
     "execution_count": 83,
     "metadata": {},
     "output_type": "execute_result"
    }
   ],
   "source": [
    "autoencoded.shape"
   ]
  },
  {
   "cell_type": "code",
   "execution_count": 84,
   "id": "603884c3",
   "metadata": {},
   "outputs": [
    {
     "data": {
      "text/plain": [
       "array([6135.918], dtype=float32)"
      ]
     },
     "execution_count": 84,
     "metadata": {},
     "output_type": "execute_result"
    }
   ],
   "source": [
    "np.linalg.norm(inputs-autoencoded, axis=-1)\n",
    "# if the result is alot higher than the loss, it means this image is an anomaly"
   ]
  },
  {
   "cell_type": "code",
   "execution_count": 85,
   "id": "542514a2",
   "metadata": {},
   "outputs": [
    {
     "data": {
      "text/plain": [
       "array([5.53755441])"
      ]
     },
     "execution_count": 85,
     "metadata": {},
     "output_type": "execute_result"
    }
   ],
   "source": [
    "np.linalg.norm(x_train[0].reshape(1, h*w)- autoencoder.predict(x_train[0].reshape(1, h*w)), axis=-1)"
   ]
  },
  {
   "cell_type": "markdown",
   "id": "64bb2254",
   "metadata": {},
   "source": [
    "### Autoencoders for denoising"
   ]
  },
  {
   "cell_type": "code",
   "execution_count": 126,
   "id": "a40a68f9",
   "metadata": {},
   "outputs": [],
   "source": [
    "(x_train, y_train), (x_test, y_test) = mnist.load_data()"
   ]
  },
  {
   "cell_type": "code",
   "execution_count": 127,
   "id": "cf9e3e40",
   "metadata": {},
   "outputs": [],
   "source": [
    "n, w, h = x_train.shape"
   ]
  },
  {
   "cell_type": "code",
   "execution_count": 128,
   "id": "255f30c4",
   "metadata": {},
   "outputs": [],
   "source": [
    "noise_factor = 0.5"
   ]
  },
  {
   "cell_type": "code",
   "execution_count": 129,
   "id": "b3aeedee",
   "metadata": {},
   "outputs": [],
   "source": [
    "noises = np.random.normal(loc=0.0, scale=1.0, size=x_train.shape)"
   ]
  },
  {
   "cell_type": "code",
   "execution_count": 130,
   "id": "6e32888b",
   "metadata": {},
   "outputs": [
    {
     "data": {
      "text/plain": [
       "(60000, 28, 28)"
      ]
     },
     "execution_count": 130,
     "metadata": {},
     "output_type": "execute_result"
    }
   ],
   "source": [
    "noises.shape"
   ]
  },
  {
   "cell_type": "code",
   "execution_count": 131,
   "id": "5e516171",
   "metadata": {},
   "outputs": [],
   "source": [
    "x_train_noisy = x_train + noise_factor * np.random.normal(loc=0.0, scale=1.0, size=x_train.shape)\n",
    "x_test_noisy = x_test + noise_factor * np.random.normal(loc=0.0, scale=1.0, size=x_test.shape)"
   ]
  },
  {
   "cell_type": "code",
   "execution_count": 132,
   "id": "7af5fde5",
   "metadata": {},
   "outputs": [],
   "source": [
    "x_train_noisy = np.clip(x_train_noisy, 0, 1)\n",
    "x_test_noisy = np.clip(x_test_noisy, 0, 1)"
   ]
  },
  {
   "cell_type": "code",
   "execution_count": 133,
   "id": "54a75f3b",
   "metadata": {},
   "outputs": [
    {
     "data": {
      "text/plain": [
       "<matplotlib.image.AxesImage at 0x7fdde3fd6bd0>"
      ]
     },
     "execution_count": 133,
     "metadata": {},
     "output_type": "execute_result"
    },
    {
     "data": {
      "image/png": "[encoded data removed]",
      "text/plain": [
       "<Figure size 432x288 with 1 Axes>"
      ]
     },
     "metadata": {
      "needs_background": "light"
     },
     "output_type": "display_data"
    }
   ],
   "source": [
    "plt.imshow(x_test_noisy[0].reshape(w,h))"
   ]
  },
  {
   "cell_type": "code",
   "execution_count": 134,
   "id": "5b7fd970",
   "metadata": {},
   "outputs": [],
   "source": [
    "import tensorflow as tf"
   ]
  },
  {
   "cell_type": "code",
   "execution_count": 135,
   "id": "1dc7bced",
   "metadata": {},
   "outputs": [],
   "source": [
    "adadelta = tf.keras.optimizers.Adadelta(learning_rate=0.001, rho=0.95, epsilon=1e-07)"
   ]
  },
  {
   "cell_type": "code",
   "execution_count": 136,
   "id": "073e1250",
   "metadata": {},
   "outputs": [
    {
     "name": "stdout",
     "output_type": "stream",
     "text": [
      "Epoch 1/50\n",
      "235/235 [==============================] - 15s 62ms/step - loss: -0.1059 - val_loss: -1.2491\n",
      "Epoch 2/50\n",
      "235/235 [==============================] - 14s 61ms/step - loss: -321.9148 - val_loss: -502.1725\n",
      "Epoch 3/50\n",
      "235/235 [==============================] - 14s 61ms/step - loss: -495.0074 - val_loss: -502.3231\n",
      "Epoch 4/50\n",
      "235/235 [==============================] - 14s 60ms/step - loss: -495.1535 - val_loss: -502.4672\n",
      "Epoch 5/50\n",
      "235/235 [==============================] - 14s 61ms/step - loss: -495.2993 - val_loss: -502.6129\n",
      "Epoch 6/50\n",
      "235/235 [==============================] - 14s 61ms/step - loss: -495.4453 - val_loss: -502.7581\n",
      "Epoch 7/50\n",
      "235/235 [==============================] - 14s 61ms/step - loss: -495.5912 - val_loss: -502.9059\n",
      "Epoch 8/50\n",
      "235/235 [==============================] - 14s 60ms/step - loss: -495.7424 - val_loss: -503.0603\n",
      "Epoch 9/50\n",
      "235/235 [==============================] - 14s 59ms/step - loss: -495.9034 - val_loss: -503.2307\n",
      "Epoch 10/50\n",
      "235/235 [==============================] - 14s 61ms/step - loss: -496.0894 - val_loss: -503.4362\n",
      "Epoch 11/50\n",
      "235/235 [==============================] - 14s 60ms/step - loss: -496.3142 - val_loss: -503.6843\n",
      "Epoch 12/50\n",
      "235/235 [==============================] - 14s 59ms/step - loss: -496.5893 - val_loss: -503.9947\n",
      "Epoch 13/50\n",
      "235/235 [==============================] - 14s 59ms/step - loss: -496.9421 - val_loss: -504.3995\n",
      "Epoch 14/50\n",
      "235/235 [==============================] - 14s 60ms/step - loss: -497.4039 - val_loss: -504.9265\n",
      "Epoch 15/50\n",
      "235/235 [==============================] - 14s 59ms/step - loss: -497.9943 - val_loss: -505.5799\n",
      "Epoch 16/50\n",
      "235/235 [==============================] - 14s 60ms/step - loss: -498.6722 - val_loss: -506.2517\n",
      "Epoch 17/50\n",
      "235/235 [==============================] - 14s 59ms/step - loss: -499.2923 - val_loss: -506.7980\n",
      "Epoch 18/50\n",
      "235/235 [==============================] - 14s 60ms/step - loss: -499.7638 - val_loss: -507.1913\n",
      "Epoch 19/50\n",
      "235/235 [==============================] - 14s 60ms/step - loss: -500.0992 - val_loss: -507.4731\n",
      "Epoch 20/50\n",
      "235/235 [==============================] - 14s 60ms/step - loss: -500.3426 - val_loss: -507.6822\n",
      "Epoch 21/50\n",
      "235/235 [==============================] - 14s 60ms/step - loss: -500.5276 - val_loss: -507.8441\n",
      "Epoch 22/50\n",
      "235/235 [==============================] - 14s 59ms/step - loss: -500.6732 - val_loss: -507.9744\n",
      "Epoch 23/50\n",
      "235/235 [==============================] - 14s 59ms/step - loss: -500.7921 - val_loss: -508.0811\n",
      "Epoch 24/50\n",
      "235/235 [==============================] - 14s 59ms/step - loss: -500.8906 - val_loss: -508.1708\n",
      "Epoch 25/50\n",
      "235/235 [==============================] - 14s 60ms/step - loss: -500.9745 - val_loss: -508.2491\n",
      "Epoch 26/50\n",
      "235/235 [==============================] - 14s 58ms/step - loss: -501.0472 - val_loss: -508.3155\n",
      "Epoch 27/50\n",
      "235/235 [==============================] - 14s 59ms/step - loss: -501.1102 - val_loss: -508.3752\n",
      "Epoch 28/50\n",
      "235/235 [==============================] - 14s 59ms/step - loss: -501.1665 - val_loss: -508.4283\n",
      "Epoch 29/50\n",
      "235/235 [==============================] - 14s 60ms/step - loss: -501.2179 - val_loss: -508.4776\n",
      "Epoch 30/50\n",
      "235/235 [==============================] - 14s 61ms/step - loss: -501.2649 - val_loss: -508.5229\n",
      "Epoch 31/50\n",
      "235/235 [==============================] - 14s 61ms/step - loss: -501.3082 - val_loss: -508.5648\n",
      "Epoch 32/50\n",
      "235/235 [==============================] - 14s 60ms/step - loss: -501.3490 - val_loss: -508.6042\n",
      "Epoch 33/50\n",
      "235/235 [==============================] - 14s 59ms/step - loss: -501.3866 - val_loss: -508.6408\n",
      "Epoch 34/50\n",
      "235/235 [==============================] - 14s 61ms/step - loss: -501.4214 - val_loss: -508.6750\n",
      "Epoch 35/50\n",
      "235/235 [==============================] - 14s 61ms/step - loss: -501.4548 - val_loss: -508.7071\n",
      "Epoch 36/50\n",
      "235/235 [==============================] - 14s 61ms/step - loss: -501.4857 - val_loss: -508.7380\n",
      "Epoch 37/50\n",
      "235/235 [==============================] - 14s 62ms/step - loss: -501.5155 - val_loss: -508.7672\n",
      "Epoch 38/50\n",
      "235/235 [==============================] - 14s 61ms/step - loss: -501.5439 - val_loss: -508.7942\n",
      "Epoch 39/50\n",
      "235/235 [==============================] - 14s 61ms/step - loss: -501.5698 - val_loss: -508.8199\n",
      "Epoch 40/50\n",
      "235/235 [==============================] - 15s 62ms/step - loss: -501.5953 - val_loss: -508.8449\n",
      "Epoch 41/50\n",
      "235/235 [==============================] - 15s 62ms/step - loss: -501.6200 - val_loss: -508.8698\n",
      "Epoch 42/50\n",
      "235/235 [==============================] - 15s 62ms/step - loss: -501.6445 - val_loss: -508.8939\n",
      "Epoch 43/50\n",
      "235/235 [==============================] - 14s 61ms/step - loss: -501.6679 - val_loss: -508.9173\n",
      "Epoch 44/50\n",
      "235/235 [==============================] - 14s 61ms/step - loss: -501.6906 - val_loss: -508.9394\n",
      "Epoch 45/50\n",
      "235/235 [==============================] - 15s 63ms/step - loss: -501.7124 - val_loss: -508.9609\n",
      "Epoch 46/50\n",
      "235/235 [==============================] - 15s 63ms/step - loss: -501.7334 - val_loss: -508.9817\n",
      "Epoch 47/50\n",
      "235/235 [==============================] - 15s 62ms/step - loss: -501.7543 - val_loss: -509.0022\n",
      "Epoch 48/50\n",
      "235/235 [==============================] - 15s 63ms/step - loss: -501.7744 - val_loss: -509.0219\n",
      "Epoch 49/50\n",
      "235/235 [==============================] - 15s 62ms/step - loss: -501.7934 - val_loss: -509.0413\n",
      "Epoch 50/50\n",
      "235/235 [==============================] - 15s 63ms/step - loss: -501.8125 - val_loss: -509.0602\n",
      "WARNING:tensorflow:Model was constructed with shape (None, 28, 28, 1) for input KerasTensor(type_spec=TensorSpec(shape=(None, 28, 28, 1), dtype=tf.float32, name='input_9'), name='input_9', description=\"created by layer 'input_9'\"), but it was called on an input with incompatible shape (None, 28, 1, 1).\n",
      "WARNING:tensorflow:6 out of the last 1882 calls to <function Model.make_predict_function.<locals>.predict_function at 0x7fdde15e0d40> triggered tf.function retracing. Tracing is expensive and the excessive number of tracings could be due to (1) creating @tf.function repeatedly in a loop, (2) passing tensors with different shapes, (3) passing Python objects instead of tensors. For (1), please define your @tf.function outside of the loop. For (2), @tf.function has experimental_relax_shapes=True option that relaxes argument shapes that can avoid unnecessary retracing. For (3), please refer to https://www.tensorflow.org/guide/function#controlling_retracing and https://www.tensorflow.org/api_docs/python/tf/function for  more details.\n"
     ]
    }
   ],
   "source": [
    "input_img = Input(shape=(w,h, 1))\n",
    "\n",
    "nn = Conv2D(32, (3,3), activation='relu', padding='same')(input_img)\n",
    "nn = MaxPooling2D((2,2),padding='same')(nn)\n",
    "nn = Conv2D(32,(3,3), activation='relu', padding='same')(nn)\n",
    "encoder = MaxPooling2D((2,2), padding='same')(nn)\n",
    "\n",
    "nn = Conv2D(32,(3,3), activation='relu', padding='same')(encoder)\n",
    "nn = UpSampling2D((2,2))(nn)\n",
    "nn = Conv2D(32, (3,3), activation='relu', padding='same')(nn)\n",
    "nn = UpSampling2D((2,2))(nn)\n",
    "decoder = Conv2D(1, (3,3), activation='sigmoid', padding='same')(nn)\n",
    "\n",
    "autoencoder2 = Model(input_img, decoder)\n",
    "autoencoder2.compile(optimizer=adadelta, loss='binary_crossentropy')\n",
    "autoencoder2.fit(x_train_noisy, x_train, batch_size = 256, epochs=50, validation_data=(x_test_noisy, x_test))\n"
   ]
  },
  {
   "cell_type": "code",
   "execution_count": 192,
   "id": "6a576e77",
   "metadata": {},
   "outputs": [],
   "source": [
    "decoded_img = autoencoder2.predict(x_test_noisy[0].reshape(1, w, h, 1))"
   ]
  },
  {
   "cell_type": "code",
   "execution_count": 196,
   "id": "bccdacf8",
   "metadata": {},
   "outputs": [
    {
     "data": {
      "text/plain": [
       "<matplotlib.image.AxesImage at 0x7fdfdf8cff90>"
      ]
     },
     "execution_count": 196,
     "metadata": {},
     "output_type": "execute_result"
    },
    {
     "data": {
      "image/png": "[encoded data removed]",
      "text/plain": [
       "<Figure size 432x288 with 1 Axes>"
      ]
     },
     "metadata": {
      "needs_background": "light"
     },
     "output_type": "display_data"
    }
   ],
   "source": [
    "plt.imshow(decoded_img[0,:,:,0])"
   ]
  },
  {
   "cell_type": "code",
   "execution_count": 197,
   "id": "9f13f957",
   "metadata": {},
   "outputs": [
    {
     "data": {
      "text/plain": [
       "(1, 28, 28, 1)"
      ]
     },
     "execution_count": 197,
     "metadata": {},
     "output_type": "execute_result"
    }
   ],
   "source": [
    "decoded_img.shape"
   ]
  },
  {
   "cell_type": "code",
   "execution_count": null,
   "id": "3068d3b2",
   "metadata": {},
   "outputs": [],
   "source": []
  },
  {
   "cell_type": "code",
   "execution_count": 148,
   "id": "318dc2a5",
   "metadata": {},
   "outputs": [
    {
     "data": {
      "text/plain": [
       "(28, 28, 1)"
      ]
     },
     "execution_count": 148,
     "metadata": {},
     "output_type": "execute_result"
    }
   ],
   "source": [
    "x_test_noisy[0].reshape(w, h, 1).shape"
   ]
  },
  {
   "cell_type": "code",
   "execution_count": 158,
   "id": "abb1d380",
   "metadata": {},
   "outputs": [
    {
     "name": "stdout",
     "output_type": "stream",
     "text": [
      "(1, 28, 28, 32)\n",
      "(1, 14, 14, 32)\n",
      "(1, 14, 14, 32)\n",
      "(1, 7, 7, 32)\n",
      "(1, 7, 7, 32)\n",
      "(1, 14, 14, 32)\n",
      "(1, 14, 14, 32)\n",
      "(1, 28, 28, 32)\n",
      "(1, 28, 28, 1)\n"
     ]
    }
   ],
   "source": [
    "x = Conv2D(32, (3,3), activation='relu', padding='same')(x_test_noisy[0].reshape(1, w, h, 1))\n",
    "print(x.shape)\n",
    "\n",
    "x = MaxPooling2D((2,2),padding='same')(x)\n",
    "print(x.shape)\n",
    "\n",
    "x = Conv2D(32,(3,3), activation='relu', padding='same')(x)\n",
    "print(x.shape)\n",
    "\n",
    "x = MaxPooling2D((2,2), padding='same')(x)\n",
    "print(x.shape)\n",
    "\n",
    "x = Conv2D(32,(3,3), activation='relu', padding='same')(x)\n",
    "print(x.shape)\n",
    "\n",
    "x = UpSampling2D((2,2))(x)\n",
    "print(x.shape)\n",
    "\n",
    "x = Conv2D(32, (3,3), activation='relu', padding='same')(x)\n",
    "print(x.shape)\n",
    "\n",
    "x = UpSampling2D((2,2))(x)\n",
    "print(x.shape)\n",
    "\n",
    "x = Conv2D(1, (3,3), activation='sigmoid', padding='same')(x)\n",
    "print(x.shape)"
   ]
  },
  {
   "cell_type": "code",
   "execution_count": 165,
   "id": "e78646b1",
   "metadata": {},
   "outputs": [],
   "source": [
    "a = autoencoder2.predict(x_test_noisy[0].reshape(1,w, h, 1))"
   ]
  },
  {
   "cell_type": "code",
   "execution_count": 166,
   "id": "deb9f39e",
   "metadata": {},
   "outputs": [
    {
     "data": {
      "text/plain": [
       "(1, 28, 28, 1)"
      ]
     },
     "execution_count": 166,
     "metadata": {},
     "output_type": "execute_result"
    }
   ],
   "source": [
    "a.shape"
   ]
  },
  {
   "cell_type": "code",
   "execution_count": 171,
   "id": "d29d35f0",
   "metadata": {},
   "outputs": [
    {
     "data": {
      "text/plain": [
       "(28, 28, 1)"
      ]
     },
     "execution_count": 171,
     "metadata": {},
     "output_type": "execute_result"
    }
   ],
   "source": [
    "x_test_noisy[0].reshape(w, h, 1).shape"
   ]
  },
  {
   "cell_type": "code",
   "execution_count": null,
   "id": "967d8543",
   "metadata": {},
   "outputs": [],
   "source": []
  }
 ],
 "metadata": {
  "kernelspec": {
   "display_name": "Python 3",
   "language": "python",
   "name": "python3"
  },
  "language_info": {
   "codemirror_mode": {
    "name": "ipython",
    "version": 3
   },
   "file_extension": ".py",
   "mimetype": "text/x-python",
   "name": "python",
   "nbconvert_exporter": "python",
   "pygments_lexer": "ipython3",
   "version": "3.7.10"
  }
 },
 "nbformat": 4,
 "nbformat_minor": 5
}
