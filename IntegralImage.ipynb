{
 "cells": [
  {
   "cell_type": "markdown",
   "id": "99b1e0f2",
   "metadata": {},
   "source": [
    "## Finding submatrix of a matrix (image) in O(1)\n",
    "### Each image/matrix can have various different submatrix"
   ]
  },
  {
   "cell_type": "code",
   "execution_count": 1,
   "id": "039f976b",
   "metadata": {},
   "outputs": [],
   "source": [
    "M = [[1, 2, 3, 4, 6],\n",
    "    [5, 3, 8, 1, 2],\n",
    "    [4, 6, 7, 5, 5],\n",
    "    [2, 4, 8, 9, 4]]"
   ]
  },
  {
   "cell_type": "code",
   "execution_count": 2,
   "id": "aa039463",
   "metadata": {},
   "outputs": [
    {
     "data": {
      "text/plain": [
       "[[1, 2, 3, 4, 6], [5, 3, 8, 1, 2], [4, 6, 7, 5, 5], [2, 4, 8, 9, 4]]"
      ]
     },
     "execution_count": 2,
     "metadata": {},
     "output_type": "execute_result"
    }
   ],
   "source": [
    "M"
   ]
  },
  {
   "cell_type": "code",
   "execution_count": 10,
   "id": "5f1be748",
   "metadata": {},
   "outputs": [],
   "source": [
    "def build_aux(matrix):\n",
    "    rows = len(matrix)\n",
    "    cols = len(matrix[0])\n",
    "    aux = [[None]*cols for i in range(rows)]\n",
    "    \n",
    "    \n",
    "    \n",
    "    # sum column wise \n",
    "    for i in range(rows):\n",
    "        for j in range(cols):\n",
    "            if i == 0:\n",
    "                aux[i][j]= matrix[i][j]\n",
    "            else:\n",
    "                aux[i][j]= matrix[i][j] + aux[i - 1][j]\n",
    "    \n",
    "    for i in range(rows):\n",
    "        for j in range(1, cols):\n",
    "            aux[i][j] = aux[i][j-1] + aux[i][j]\n",
    "    return aux"
   ]
  },
  {
   "cell_type": "code",
   "execution_count": 15,
   "id": "7aae3b18",
   "metadata": {},
   "outputs": [
    {
     "name": "stdout",
     "output_type": "stream",
     "text": [
      "38\n",
      "11\n"
     ]
    }
   ],
   "source": [
    "def sumQuary(aux, tli, tlj, bri, brj):\n",
    "    res = aux[bri][brj]\n",
    "    \n",
    "    if tli > 0:\n",
    "        res = res - aux[tli - 1][brj]\n",
    "    if tlj > 0:\n",
    "        res = res - aux[bri][tlj-1]\n",
    "    # because the corner got subtracted twice\n",
    "    if tli > 0 and tlj > 0:\n",
    "        res += aux[tli - 1][tlj - 1]\n",
    "    return res\n",
    "\n",
    "\n",
    "aux = build_aux(M)\n",
    "\n",
    "\n",
    "tli = 2\n",
    "tlj = 2\n",
    "bri = 3\n",
    "brj = 4\n",
    "print(sumQuary(aux, tli, tlj, bri, brj))\n",
    "\n",
    "\n",
    "tli = 0\n",
    "tlj = 0\n",
    "bri = 1\n",
    "brj = 1\n",
    "print(sumQuary(aux, tli, tlj, bri, brj))"
   ]
  },
  {
   "cell_type": "code",
   "execution_count": null,
   "id": "df873bcc",
   "metadata": {},
   "outputs": [],
   "source": []
  }
 ],
 "metadata": {
  "kernelspec": {
   "display_name": "Python 3",
   "language": "python",
   "name": "python3"
  },
  "language_info": {
   "codemirror_mode": {
    "name": "ipython",
    "version": 3
   },
   "file_extension": ".py",
   "mimetype": "text/x-python",
   "name": "python",
   "nbconvert_exporter": "python",
   "pygments_lexer": "ipython3",
   "version": "3.7.10"
  }
 },
 "nbformat": 4,
 "nbformat_minor": 5
}
